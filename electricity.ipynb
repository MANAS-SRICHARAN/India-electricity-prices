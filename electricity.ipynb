{
 "cells": [
  {
   "cell_type": "code",
   "execution_count": 27,
   "id": "37861509",
   "metadata": {},
   "outputs": [],
   "source": [
    "import numpy as np\n",
    "import pandas as pd\n",
    "import matplotlib.pyplot as plt\n",
    "import seaborn as sns\n",
    "import re"
   ]
  },
  {
   "cell_type": "code",
   "execution_count": 28,
   "id": "6c8627a5",
   "metadata": {},
   "outputs": [],
   "source": [
    "import pandas as pd\n",
    "data_tables = pd.read_html(\"https://www.kitchenarena.in/state-wise-electricity-tariff-india\")"
   ]
  },
  {
   "cell_type": "code",
   "execution_count": 30,
   "id": "d9e797a8",
   "metadata": {},
   "outputs": [],
   "source": [
    "!pip install --upgrade --force-reinstall shapely\n",
    "#brew install geos\n",
    "#only then the shapely will work"
   ]
  },
  {
   "cell_type": "code",
   "execution_count": 32,
   "id": "f16f1fda",
   "metadata": {},
   "outputs": [],
   "source": [
    "states = {}\n",
    "states_ls =[\"AndhraPradesh\",\"Telangana\",\"TamilNadu\",\"Karnataka\",\"Kerala\",\"Goa\",\\\n",
    "           \"Maharashtra_MSEDCL\",\"Maharashtra_Adani\",\"Maharashtra_Tata\",\"Maharashtra_Best\",\\\n",
    "           \"Gujrat_non_rural\",\"Gujrat_rural\",\"Gujrat_\",\"Rajasthan\",\\\n",
    "           \"Delhi\",\"Punjab\",\"Haryana\",\"Uttarakhand\",\"HimachalPradesh\",\\\n",
    "           \"MadhyaPradesh\",\"Chattisgarh\",\"Jarkhand\",\"UttarPradesh\",\\\n",
    "           \"Bihar\",\"WestBengal_WBSEDCL\",\"WestBengal_CESC\",\\\n",
    "           \"Orissa\",\"Sikkim\",\"Assam\",\"Manipur\",\"Mizoram\",\"Nagaland\",\"Tripura\",\"Meghalaya\",\\\n",
    "           \"Andaman_and_nicobar\",\"Chandigarh\",\"Daman_Diu_Dadra_NagarHaveli\",\"Lakshyadweep\",\"Puducherry\"]"
   ]
  },
  {
   "cell_type": "code",
   "execution_count": 33,
   "id": "d001ace6",
   "metadata": {},
   "outputs": [],
   "source": [
    "for i in range(39):\n",
    "    states[states_ls[i]] = data_tables[i]"
   ]
  },
  {
   "cell_type": "code",
   "execution_count": 35,
   "id": "f2969320",
   "metadata": {},
   "outputs": [],
   "source": [
    "cols =[\"units\",\"fixed_charges\",\"charges_per_unit\"]"
   ]
  },
  {
   "cell_type": "code",
   "execution_count": 110,
   "id": "4582fa56",
   "metadata": {},
   "outputs": [],
   "source": [
    "andhra_pradesh = pd.DataFrame(states[\"AndhraPradesh\"].iloc[11:18,[0,1,3]].values,columns=cols)\n",
    "telangana= pd.DataFrame(states[\"Telangana\"].iloc[8:,[0,2,3]].values,columns=cols).fillna(30).assign(fixed_charges=lambda x: x.fixed_charges.replace(r\"^60\",60,regex=True))\n",
    "tamilnadu = pd.DataFrame(states[\"TamilNadu\"].iloc[11:,[0,2,1]].values,columns=cols)\n",
    "\n",
    "karnataka_domestic=pd.DataFrame(states[\"Karnataka\"].iloc[11:,[1,2]].assign(fixed_charges=[80,140,140,140]).iloc[:,[0,2,1]].values,columns=cols)\n",
    "\n",
    "\n",
    "kerala = pd.DataFrame(states[\"Kerala\"].iloc[8:,[0,2,3]].values,columns=cols)\n",
    "#single phase\n",
    "Goa = pd.DataFrame(states[\"Goa\"].iloc[1:6,[0,1,3]].values,columns=cols)\n",
    "maharastra=pd.DataFrame(states[\"Maharashtra_Adani\"].iloc[3:,[0,1,2,3]].assign(charges_per_unit = lambda df_: df_.iloc[:,2].astype(\"float\")+ df_.iloc[:,3].astype(\"float\")).iloc[:,[0,1,4]].values,columns=cols)\n",
    "\n",
    "\n",
    "Gujarat= pd.DataFrame(states[\"Gujrat_non_rural\"].iloc[2:6,[2,1,3]].values,columns=cols)\n",
    "\n",
    "\n",
    "Rajasthan = pd.DataFrame(states[\"Rajasthan\"].iloc[3:7,[2,1,3]].values,columns=cols)\n",
    "delhi = pd.DataFrame(states[\"Delhi\"].iloc[1:,[2,1,3]].values, columns=[\"units\",\"fixed_charges\",\"charges_per_unit\"])\n",
    "Punjab =pd.DataFrame(states[\"Punjab\"].iloc[7:10,[2,1,3]].values,columns=[\"units\",\"fixed_charges\",\"charges_per_unit\"])\n",
    "haryana =pd.DataFrame(states[\"Haryana\"].iloc[5:9,[0,2,3]].assign(fixed_charges= lambda df_: 75).iloc[:,[0,3,2]].values , columns=[\"units\",\"fixed_charges\",\"charges_per_unit\"])\n",
    "uttarakhand =pd.DataFrame(states[\"Uttarakhand\"].iloc[5:9,[0,1,2]].values,columns =[\"units\",\"fixed_charges\",\"charges_per_unit\"])\n",
    "himachal = pd.DataFrame(states[\"HimachalPradesh\"].iloc[4:7,[0,1,2]].values,columns=cols)\n",
    "\n",
    "madhyapradesh = pd.DataFrame(states[\"MadhyaPradesh\"].iloc[4:,[0,2,3]].values,columns=cols).assign(fixed_charges= lambda df_: [46,82,200,230])\n",
    "chattisgarh =pd.DataFrame(states[\"Chattisgarh\"].iloc[1:,[0,1,2]].values, columns=[\"units\",\"fixed_charges\",\"charges_per_unit\"])\n",
    "jarkhand=pd.DataFrame(states[\"Jarkhand\"].iloc[1,[1,2]].values.reshape(1,2),columns=[\"fixed_charges\",\"charges_per_unit\"]).assign(units=\"rest\")\n",
    "uttarpradesh=pd.DataFrame(states[\"UttarPradesh\"].iloc[6:,:].values,columns=[\"units\",\"fixed_charges\",\"charges_per_unit\"])\n",
    "bihar=pd.DataFrame(states[\"Bihar\"].iloc[[13],:].values,columns=[\"units\",\"fixed_charges\",\"charges_per_unit\"])\n",
    "westbengal=pd.DataFrame(states[\"WestBengal_WBSEDCL\"].iloc[1:,[0,1,3]].values,columns=[\"units\",\"fixed_charges\",\"charges_per_unit\"])\n",
    "orissa=pd.DataFrame(states[\"Orissa\"].iloc[4:8,[0,1,3]].values, columns=[\"units\",\"fixed_charges\",\"charges_per_unit\"])\n",
    "sikkim = pd.DataFrame(states[\"Sikkim\"].iloc[1:,:].values,columns=[\"units\",\"fixed_charges\",\"charges_per_unit\"])\n",
    "assam=pd.DataFrame(states[\"Assam\"].iloc[[8],:].values, columns=[\"units\",\"fixed_charges\",\"charges_per_unit\"])\n",
    "manipur =pd.DataFrame(states[\"Manipur\"].iloc[4:,:].values,columns=[\"units\",\"fixed_charges\",\"charges_per_unit\"])\n",
    "mizoram=pd.DataFrame(states[\"Mizoram\"].iloc[5:,:].values,columns=[\"units\",\"fixed_charges\",\"charges_per_unit\"])\n",
    "nagaland=pd.DataFrame(states[\"Nagaland\"].iloc[1:,:].values, columns=[\"units\",\"fixed_charges\",\"charges_per_unit\"])\n",
    "tripura =pd.DataFrame(states[\"Tripura\"].iloc[3:6].values,columns=[\"units\",\"fixed_charges\",\"charges_per_unit\"])\n",
    "meghalaya=pd.DataFrame(states[\"Meghalaya\"].iloc[5:,:].values,columns=[\"units\",\"fixed_charges\",\"charges_per_unit\"])\n",
    "andaman=pd.DataFrame(states[\"Andaman_and_nicobar\"].iloc[1:,[0,1,3]].values,columns=[\"units\",\"fixed_charges\",\"charges_per_unit\"])\n",
    "chandigarh=pd.DataFrame(states[\"Chandigarh\"].iloc[1:,:].values,columns=[\"units\",\"fixed_charges\",\"charges_per_unit\"])\n",
    "daman=pd.DataFrame(states[\"Daman_Diu_Dadra_NagarHaveli\"].iloc[1:,:].values,columns=[\"units\",\"fixed_charges\",\"charges_per_unit\"])\n",
    "lakshyadweep=pd.DataFrame(states[\"Lakshyadweep\"].iloc[3:,:].values,columns=[\"units\",\"fixed_charges\",\"charges_per_unit\"])\n",
    "puducherry=pd.DataFrame(states[\"Puducherry\"].iloc[3:,:].values,columns=[\"units\",\"fixed_charges\",\"charges_per_unit\"])"
   ]
  },
  {
   "cell_type": "code",
   "execution_count": 272,
   "id": "691a6929",
   "metadata": {},
   "outputs": [],
   "source": [
    "states_ =[\"Andhra Pradesh\",\"Telangana\",\"Tamil Nadu\",\"Karnataka\",\"Kerala\",\"Goa\",\\\n",
    "           \"Maharashtra\",\\\n",
    "           \"Gujarat\",\"Rajasthan\",\\\n",
    "           \"Delhi\",\"Punjab\",\"Haryana\",\"Uttarakhand\",\"Himachal Pradesh\",\\\n",
    "           \"Madhya Pradesh\",\"Chhattisgarh\",\"Jharkhand\",\"Uttar Pradesh\",\\\n",
    "           \"Bihar\",\"West Bengal\",\\\n",
    "           \"Odisha\",\"Sikkim\",\"Assam\",\"Manipur\",\"Mizoram\",\"Nagaland\",\"Tripura\",\"Meghalaya\",\\\n",
    "           \"Andaman & Nicobar\",\"Chandigarh\",\"Dadra and Nagar Haveli and Daman and Diu\",\"Lakshyadweep\",\"Puducherry\"]"
   ]
  },
  {
   "cell_type": "code",
   "execution_count": 292,
   "id": "a6d3ec43",
   "metadata": {},
   "outputs": [],
   "source": [
    "states_df=[andhra_pradesh,telangana,tamilnadu,karnataka_domestic,kerala,Goa,maharastra,\\\n",
    "          Gujarat,Rajasthan,delhi,Punjab,haryana,uttarakhand,himachal,madhyapradesh,chattisgarh,jarkhand,\\\n",
    "          uttarpradesh,bihar,westbengal,orissa,sikkim,assam,manipur,mizoram,nagaland,tripura,meghalaya,\\\n",
    "          andaman,chandigarh,daman,lakshyadweep,puducherry]\n",
    "ss=pd.Series(index=states_,dtype=\"object\")\n",
    "for i in range(len(states_)):\n",
    "    ss[states_[i]]= states_df[i]\n",
    "\n",
    "def splitter(x):\n",
    "    if not ((\"More\" in x.units ) | (\"Above\" in x.units) | (\"Up to\" in x.units) | (\"rest\" in x.units) |(\"All units\" in x.units)| (\"above\" in x.units) | (\"All\" in x.units)):\n",
    "        return re.findall(r\"(\\d+) .* (\\d+)\",x.units)[0]\n",
    "    elif \"rest\" in x.units:\n",
    "        return \"rest\"\n",
    "    elif \"All units\" in x.units:\n",
    "        return \"rest\"\n",
    "    elif \"All\" in x.units:\n",
    "        return \"rest\"\n",
    "    else:\n",
    "        return re.findall(r'\\d+',x.units)\n",
    "\n",
    "def fixed_charge_(x):\n",
    "    return re.findall(r\"(\\d+)\",str(x.fixed_charges))[0]\n",
    "    \n",
    "def charges_unit(x):\n",
    "    return float(re.findall(r\"(\\d+)\",str(x.charges_per_unit))[0])\n",
    "def value_checker(val,x):\n",
    "    check=False\n",
    "    if isinstance(val,list):\n",
    "        if x> int(val[0]):\n",
    "            check=True\n",
    "            return True\n",
    "        else:\n",
    "            return False\n",
    "    if isinstance(val,tuple):\n",
    "        if int(val[0])<x < int(val[1]):\n",
    "            check=True\n",
    "            return True\n",
    "        else:\n",
    "            return False\n",
    "    if val==\"rest\" and check==False:\n",
    "        return True\n",
    "            \n",
    "def calculate(state,x):\n",
    "    \n",
    "        \n",
    "        id_ =ss[state].apply(splitter,axis=1).apply(value_checker,x=x).idxmax()\n",
    "        f_rate = float(ss[state].apply(fixed_charge_,axis=1).loc[id_])\n",
    "        unit_rate = float(ss[state].apply(charges_unit,axis=1).loc[id_])\n",
    "        print(states_[state])\n",
    "        value =f_rate+(x * unit_rate)\n",
    "    \n",
    "        return (value)\n",
    "final_df =[]\n",
    "for i in range(33):\n",
    "    final_df.append({\"states\":states_[i],\"bill\":calculate(i,80)})\n",
    "dff=pd.DataFrame(final_df)\n",
    "    "
   ]
  },
  {
   "cell_type": "code",
   "execution_count": 290,
   "id": "855d7e19",
   "metadata": {},
   "outputs": [
    {
     "data": {
      "application/vnd.plotly.v1+json": {
       "config": {
        "plotlyServerURL": "https://plot.ly"
       },
       "data": [
        {
         "coloraxis": "coloraxis",
         "featureidkey": "properties.ST_NM",
         "geo": "geo",
         "geojson": "https://gist.githubusercontent.com/jbrobst/56c13bbbf9d97d187fea01ca62ea5112/raw/e388c4cae20aa53cb5090210a42ebb9b765c0a36/india_states.geojson",
         "hovertemplate": "states=%{location}<br>bill=%{z}<extra></extra>",
         "locations": [
          "Andhra Pradesh",
          "Telangana",
          "Tamil Nadu",
          "Karnataka",
          "Kerala",
          "Goa",
          "Maharashtra",
          "Gujarat",
          "Rajasthan",
          "Delhi",
          "Punjab",
          "Haryana",
          "Uttarakhand",
          "Himachal Pradesh",
          "Madhya Pradesh",
          "Chhattisgarh",
          "Jharkhand",
          "Uttar Pradesh",
          "Bihar",
          "West Bengal",
          "Odisha",
          "Sikkim",
          "Assam",
          "Manipur",
          "Mizoram",
          "Nagaland",
          "Tripura",
          "Meghalaya",
          "Andaman & Nicobar",
          "Chandigarh",
          "Dadra and Nagar Haveli and Daman and Diu",
          "Lakshyadweep",
          "Puducherry"
         ],
         "name": "",
         "type": "choropleth",
         "z": [
          250,
          430,
          210,
          540,
          510,
          105,
          395,
          265,
          755,
          260,
          415,
          235,
          220,
          310,
          366,
          82,
          395,
          330,
          600,
          415,
          340,
          210,
          530,
          465,
          370,
          330,
          440,
          380,
          180,
          170,
          100,
          90,
          120
         ]
        }
       ],
       "layout": {
        "coloraxis": {
         "colorbar": {
          "title": {
           "text": "bill"
          }
         },
         "colorscale": [
          [
           0,
           "rgb(255,245,240)"
          ],
          [
           0.125,
           "rgb(254,224,210)"
          ],
          [
           0.25,
           "rgb(252,187,161)"
          ],
          [
           0.375,
           "rgb(252,146,114)"
          ],
          [
           0.5,
           "rgb(251,106,74)"
          ],
          [
           0.625,
           "rgb(239,59,44)"
          ],
          [
           0.75,
           "rgb(203,24,29)"
          ],
          [
           0.875,
           "rgb(165,15,21)"
          ],
          [
           1,
           "rgb(103,0,13)"
          ]
         ]
        },
        "geo": {
         "center": {},
         "domain": {
          "x": [
           0,
           1
          ],
          "y": [
           0,
           1
          ]
         },
         "fitbounds": "locations",
         "visible": false
        },
        "legend": {
         "tracegroupgap": 0
        },
        "margin": {
         "t": 60
        },
        "template": {
         "data": {
          "bar": [
           {
            "error_x": {
             "color": "#2a3f5f"
            },
            "error_y": {
             "color": "#2a3f5f"
            },
            "marker": {
             "line": {
              "color": "#E5ECF6",
              "width": 0.5
             },
             "pattern": {
              "fillmode": "overlay",
              "size": 10,
              "solidity": 0.2
             }
            },
            "type": "bar"
           }
          ],
          "barpolar": [
           {
            "marker": {
             "line": {
              "color": "#E5ECF6",
              "width": 0.5
             },
             "pattern": {
              "fillmode": "overlay",
              "size": 10,
              "solidity": 0.2
             }
            },
            "type": "barpolar"
           }
          ],
          "carpet": [
           {
            "aaxis": {
             "endlinecolor": "#2a3f5f",
             "gridcolor": "white",
             "linecolor": "white",
             "minorgridcolor": "white",
             "startlinecolor": "#2a3f5f"
            },
            "baxis": {
             "endlinecolor": "#2a3f5f",
             "gridcolor": "white",
             "linecolor": "white",
             "minorgridcolor": "white",
             "startlinecolor": "#2a3f5f"
            },
            "type": "carpet"
           }
          ],
          "choropleth": [
           {
            "colorbar": {
             "outlinewidth": 0,
             "ticks": ""
            },
            "type": "choropleth"
           }
          ],
          "contour": [
           {
            "colorbar": {
             "outlinewidth": 0,
             "ticks": ""
            },
            "colorscale": [
             [
              0,
              "#0d0887"
             ],
             [
              0.1111111111111111,
              "#46039f"
             ],
             [
              0.2222222222222222,
              "#7201a8"
             ],
             [
              0.3333333333333333,
              "#9c179e"
             ],
             [
              0.4444444444444444,
              "#bd3786"
             ],
             [
              0.5555555555555556,
              "#d8576b"
             ],
             [
              0.6666666666666666,
              "#ed7953"
             ],
             [
              0.7777777777777778,
              "#fb9f3a"
             ],
             [
              0.8888888888888888,
              "#fdca26"
             ],
             [
              1,
              "#f0f921"
             ]
            ],
            "type": "contour"
           }
          ],
          "contourcarpet": [
           {
            "colorbar": {
             "outlinewidth": 0,
             "ticks": ""
            },
            "type": "contourcarpet"
           }
          ],
          "heatmap": [
           {
            "colorbar": {
             "outlinewidth": 0,
             "ticks": ""
            },
            "colorscale": [
             [
              0,
              "#0d0887"
             ],
             [
              0.1111111111111111,
              "#46039f"
             ],
             [
              0.2222222222222222,
              "#7201a8"
             ],
             [
              0.3333333333333333,
              "#9c179e"
             ],
             [
              0.4444444444444444,
              "#bd3786"
             ],
             [
              0.5555555555555556,
              "#d8576b"
             ],
             [
              0.6666666666666666,
              "#ed7953"
             ],
             [
              0.7777777777777778,
              "#fb9f3a"
             ],
             [
              0.8888888888888888,
              "#fdca26"
             ],
             [
              1,
              "#f0f921"
             ]
            ],
            "type": "heatmap"
           }
          ],
          "heatmapgl": [
           {
            "colorbar": {
             "outlinewidth": 0,
             "ticks": ""
            },
            "colorscale": [
             [
              0,
              "#0d0887"
             ],
             [
              0.1111111111111111,
              "#46039f"
             ],
             [
              0.2222222222222222,
              "#7201a8"
             ],
             [
              0.3333333333333333,
              "#9c179e"
             ],
             [
              0.4444444444444444,
              "#bd3786"
             ],
             [
              0.5555555555555556,
              "#d8576b"
             ],
             [
              0.6666666666666666,
              "#ed7953"
             ],
             [
              0.7777777777777778,
              "#fb9f3a"
             ],
             [
              0.8888888888888888,
              "#fdca26"
             ],
             [
              1,
              "#f0f921"
             ]
            ],
            "type": "heatmapgl"
           }
          ],
          "histogram": [
           {
            "marker": {
             "pattern": {
              "fillmode": "overlay",
              "size": 10,
              "solidity": 0.2
             }
            },
            "type": "histogram"
           }
          ],
          "histogram2d": [
           {
            "colorbar": {
             "outlinewidth": 0,
             "ticks": ""
            },
            "colorscale": [
             [
              0,
              "#0d0887"
             ],
             [
              0.1111111111111111,
              "#46039f"
             ],
             [
              0.2222222222222222,
              "#7201a8"
             ],
             [
              0.3333333333333333,
              "#9c179e"
             ],
             [
              0.4444444444444444,
              "#bd3786"
             ],
             [
              0.5555555555555556,
              "#d8576b"
             ],
             [
              0.6666666666666666,
              "#ed7953"
             ],
             [
              0.7777777777777778,
              "#fb9f3a"
             ],
             [
              0.8888888888888888,
              "#fdca26"
             ],
             [
              1,
              "#f0f921"
             ]
            ],
            "type": "histogram2d"
           }
          ],
          "histogram2dcontour": [
           {
            "colorbar": {
             "outlinewidth": 0,
             "ticks": ""
            },
            "colorscale": [
             [
              0,
              "#0d0887"
             ],
             [
              0.1111111111111111,
              "#46039f"
             ],
             [
              0.2222222222222222,
              "#7201a8"
             ],
             [
              0.3333333333333333,
              "#9c179e"
             ],
             [
              0.4444444444444444,
              "#bd3786"
             ],
             [
              0.5555555555555556,
              "#d8576b"
             ],
             [
              0.6666666666666666,
              "#ed7953"
             ],
             [
              0.7777777777777778,
              "#fb9f3a"
             ],
             [
              0.8888888888888888,
              "#fdca26"
             ],
             [
              1,
              "#f0f921"
             ]
            ],
            "type": "histogram2dcontour"
           }
          ],
          "mesh3d": [
           {
            "colorbar": {
             "outlinewidth": 0,
             "ticks": ""
            },
            "type": "mesh3d"
           }
          ],
          "parcoords": [
           {
            "line": {
             "colorbar": {
              "outlinewidth": 0,
              "ticks": ""
             }
            },
            "type": "parcoords"
           }
          ],
          "pie": [
           {
            "automargin": true,
            "type": "pie"
           }
          ],
          "scatter": [
           {
            "fillpattern": {
             "fillmode": "overlay",
             "size": 10,
             "solidity": 0.2
            },
            "type": "scatter"
           }
          ],
          "scatter3d": [
           {
            "line": {
             "colorbar": {
              "outlinewidth": 0,
              "ticks": ""
             }
            },
            "marker": {
             "colorbar": {
              "outlinewidth": 0,
              "ticks": ""
             }
            },
            "type": "scatter3d"
           }
          ],
          "scattercarpet": [
           {
            "marker": {
             "colorbar": {
              "outlinewidth": 0,
              "ticks": ""
             }
            },
            "type": "scattercarpet"
           }
          ],
          "scattergeo": [
           {
            "marker": {
             "colorbar": {
              "outlinewidth": 0,
              "ticks": ""
             }
            },
            "type": "scattergeo"
           }
          ],
          "scattergl": [
           {
            "marker": {
             "colorbar": {
              "outlinewidth": 0,
              "ticks": ""
             }
            },
            "type": "scattergl"
           }
          ],
          "scattermapbox": [
           {
            "marker": {
             "colorbar": {
              "outlinewidth": 0,
              "ticks": ""
             }
            },
            "type": "scattermapbox"
           }
          ],
          "scatterpolar": [
           {
            "marker": {
             "colorbar": {
              "outlinewidth": 0,
              "ticks": ""
             }
            },
            "type": "scatterpolar"
           }
          ],
          "scatterpolargl": [
           {
            "marker": {
             "colorbar": {
              "outlinewidth": 0,
              "ticks": ""
             }
            },
            "type": "scatterpolargl"
           }
          ],
          "scatterternary": [
           {
            "marker": {
             "colorbar": {
              "outlinewidth": 0,
              "ticks": ""
             }
            },
            "type": "scatterternary"
           }
          ],
          "surface": [
           {
            "colorbar": {
             "outlinewidth": 0,
             "ticks": ""
            },
            "colorscale": [
             [
              0,
              "#0d0887"
             ],
             [
              0.1111111111111111,
              "#46039f"
             ],
             [
              0.2222222222222222,
              "#7201a8"
             ],
             [
              0.3333333333333333,
              "#9c179e"
             ],
             [
              0.4444444444444444,
              "#bd3786"
             ],
             [
              0.5555555555555556,
              "#d8576b"
             ],
             [
              0.6666666666666666,
              "#ed7953"
             ],
             [
              0.7777777777777778,
              "#fb9f3a"
             ],
             [
              0.8888888888888888,
              "#fdca26"
             ],
             [
              1,
              "#f0f921"
             ]
            ],
            "type": "surface"
           }
          ],
          "table": [
           {
            "cells": {
             "fill": {
              "color": "#EBF0F8"
             },
             "line": {
              "color": "white"
             }
            },
            "header": {
             "fill": {
              "color": "#C8D4E3"
             },
             "line": {
              "color": "white"
             }
            },
            "type": "table"
           }
          ]
         },
         "layout": {
          "annotationdefaults": {
           "arrowcolor": "#2a3f5f",
           "arrowhead": 0,
           "arrowwidth": 1
          },
          "autotypenumbers": "strict",
          "coloraxis": {
           "colorbar": {
            "outlinewidth": 0,
            "ticks": ""
           }
          },
          "colorscale": {
           "diverging": [
            [
             0,
             "#8e0152"
            ],
            [
             0.1,
             "#c51b7d"
            ],
            [
             0.2,
             "#de77ae"
            ],
            [
             0.3,
             "#f1b6da"
            ],
            [
             0.4,
             "#fde0ef"
            ],
            [
             0.5,
             "#f7f7f7"
            ],
            [
             0.6,
             "#e6f5d0"
            ],
            [
             0.7,
             "#b8e186"
            ],
            [
             0.8,
             "#7fbc41"
            ],
            [
             0.9,
             "#4d9221"
            ],
            [
             1,
             "#276419"
            ]
           ],
           "sequential": [
            [
             0,
             "#0d0887"
            ],
            [
             0.1111111111111111,
             "#46039f"
            ],
            [
             0.2222222222222222,
             "#7201a8"
            ],
            [
             0.3333333333333333,
             "#9c179e"
            ],
            [
             0.4444444444444444,
             "#bd3786"
            ],
            [
             0.5555555555555556,
             "#d8576b"
            ],
            [
             0.6666666666666666,
             "#ed7953"
            ],
            [
             0.7777777777777778,
             "#fb9f3a"
            ],
            [
             0.8888888888888888,
             "#fdca26"
            ],
            [
             1,
             "#f0f921"
            ]
           ],
           "sequentialminus": [
            [
             0,
             "#0d0887"
            ],
            [
             0.1111111111111111,
             "#46039f"
            ],
            [
             0.2222222222222222,
             "#7201a8"
            ],
            [
             0.3333333333333333,
             "#9c179e"
            ],
            [
             0.4444444444444444,
             "#bd3786"
            ],
            [
             0.5555555555555556,
             "#d8576b"
            ],
            [
             0.6666666666666666,
             "#ed7953"
            ],
            [
             0.7777777777777778,
             "#fb9f3a"
            ],
            [
             0.8888888888888888,
             "#fdca26"
            ],
            [
             1,
             "#f0f921"
            ]
           ]
          },
          "colorway": [
           "#636efa",
           "#EF553B",
           "#00cc96",
           "#ab63fa",
           "#FFA15A",
           "#19d3f3",
           "#FF6692",
           "#B6E880",
           "#FF97FF",
           "#FECB52"
          ],
          "font": {
           "color": "#2a3f5f"
          },
          "geo": {
           "bgcolor": "white",
           "lakecolor": "white",
           "landcolor": "#E5ECF6",
           "showlakes": true,
           "showland": true,
           "subunitcolor": "white"
          },
          "hoverlabel": {
           "align": "left"
          },
          "hovermode": "closest",
          "mapbox": {
           "style": "light"
          },
          "paper_bgcolor": "white",
          "plot_bgcolor": "#E5ECF6",
          "polar": {
           "angularaxis": {
            "gridcolor": "white",
            "linecolor": "white",
            "ticks": ""
           },
           "bgcolor": "#E5ECF6",
           "radialaxis": {
            "gridcolor": "white",
            "linecolor": "white",
            "ticks": ""
           }
          },
          "scene": {
           "xaxis": {
            "backgroundcolor": "#E5ECF6",
            "gridcolor": "white",
            "gridwidth": 2,
            "linecolor": "white",
            "showbackground": true,
            "ticks": "",
            "zerolinecolor": "white"
           },
           "yaxis": {
            "backgroundcolor": "#E5ECF6",
            "gridcolor": "white",
            "gridwidth": 2,
            "linecolor": "white",
            "showbackground": true,
            "ticks": "",
            "zerolinecolor": "white"
           },
           "zaxis": {
            "backgroundcolor": "#E5ECF6",
            "gridcolor": "white",
            "gridwidth": 2,
            "linecolor": "white",
            "showbackground": true,
            "ticks": "",
            "zerolinecolor": "white"
           }
          },
          "shapedefaults": {
           "line": {
            "color": "#2a3f5f"
           }
          },
          "ternary": {
           "aaxis": {
            "gridcolor": "white",
            "linecolor": "white",
            "ticks": ""
           },
           "baxis": {
            "gridcolor": "white",
            "linecolor": "white",
            "ticks": ""
           },
           "bgcolor": "#E5ECF6",
           "caxis": {
            "gridcolor": "white",
            "linecolor": "white",
            "ticks": ""
           }
          },
          "title": {
           "x": 0.05
          },
          "xaxis": {
           "automargin": true,
           "gridcolor": "white",
           "linecolor": "white",
           "ticks": "",
           "title": {
            "standoff": 15
           },
           "zerolinecolor": "white",
           "zerolinewidth": 2
          },
          "yaxis": {
           "automargin": true,
           "gridcolor": "white",
           "linecolor": "white",
           "ticks": "",
           "title": {
            "standoff": 15
           },
           "zerolinecolor": "white",
           "zerolinewidth": 2
          }
         }
        }
       }
      },
      "text/html": [
       "<div>                            <div id=\"b9f1e57a-978b-47ea-8671-8d0b94b26872\" class=\"plotly-graph-div\" style=\"height:525px; width:100%;\"></div>            <script type=\"text/javascript\">                require([\"plotly\"], function(Plotly) {                    window.PLOTLYENV=window.PLOTLYENV || {};                                    if (document.getElementById(\"b9f1e57a-978b-47ea-8671-8d0b94b26872\")) {                    Plotly.newPlot(                        \"b9f1e57a-978b-47ea-8671-8d0b94b26872\",                        [{\"coloraxis\":\"coloraxis\",\"featureidkey\":\"properties.ST_NM\",\"geo\":\"geo\",\"geojson\":\"https://gist.githubusercontent.com/jbrobst/56c13bbbf9d97d187fea01ca62ea5112/raw/e388c4cae20aa53cb5090210a42ebb9b765c0a36/india_states.geojson\",\"hovertemplate\":\"states=%{location}<br>bill=%{z}<extra></extra>\",\"locations\":[\"Andhra Pradesh\",\"Telangana\",\"Tamil Nadu\",\"Karnataka\",\"Kerala\",\"Goa\",\"Maharashtra\",\"Gujarat\",\"Rajasthan\",\"Delhi\",\"Punjab\",\"Haryana\",\"Uttarakhand\",\"Himachal Pradesh\",\"Madhya Pradesh\",\"Chhattisgarh\",\"Jharkhand\",\"Uttar Pradesh\",\"Bihar\",\"West Bengal\",\"Odisha\",\"Sikkim\",\"Assam\",\"Manipur\",\"Mizoram\",\"Nagaland\",\"Tripura\",\"Meghalaya\",\"Andaman & Nicobar\",\"Chandigarh\",\"Dadra and Nagar Haveli and Daman and Diu\",\"Lakshyadweep\",\"Puducherry\"],\"name\":\"\",\"z\":[250.0,430.0,210.0,540.0,510.0,105.0,395.0,265.0,755.0,260.0,415.0,235.0,220.0,310.0,366.0,82.0,395.0,330.0,600.0,415.0,340.0,210.0,530.0,465.0,370.0,330.0,440.0,380.0,180.0,170.0,100.0,90.0,120.0],\"type\":\"choropleth\"}],                        {\"template\":{\"data\":{\"histogram2dcontour\":[{\"type\":\"histogram2dcontour\",\"colorbar\":{\"outlinewidth\":0,\"ticks\":\"\"},\"colorscale\":[[0.0,\"#0d0887\"],[0.1111111111111111,\"#46039f\"],[0.2222222222222222,\"#7201a8\"],[0.3333333333333333,\"#9c179e\"],[0.4444444444444444,\"#bd3786\"],[0.5555555555555556,\"#d8576b\"],[0.6666666666666666,\"#ed7953\"],[0.7777777777777778,\"#fb9f3a\"],[0.8888888888888888,\"#fdca26\"],[1.0,\"#f0f921\"]]}],\"choropleth\":[{\"type\":\"choropleth\",\"colorbar\":{\"outlinewidth\":0,\"ticks\":\"\"}}],\"histogram2d\":[{\"type\":\"histogram2d\",\"colorbar\":{\"outlinewidth\":0,\"ticks\":\"\"},\"colorscale\":[[0.0,\"#0d0887\"],[0.1111111111111111,\"#46039f\"],[0.2222222222222222,\"#7201a8\"],[0.3333333333333333,\"#9c179e\"],[0.4444444444444444,\"#bd3786\"],[0.5555555555555556,\"#d8576b\"],[0.6666666666666666,\"#ed7953\"],[0.7777777777777778,\"#fb9f3a\"],[0.8888888888888888,\"#fdca26\"],[1.0,\"#f0f921\"]]}],\"heatmap\":[{\"type\":\"heatmap\",\"colorbar\":{\"outlinewidth\":0,\"ticks\":\"\"},\"colorscale\":[[0.0,\"#0d0887\"],[0.1111111111111111,\"#46039f\"],[0.2222222222222222,\"#7201a8\"],[0.3333333333333333,\"#9c179e\"],[0.4444444444444444,\"#bd3786\"],[0.5555555555555556,\"#d8576b\"],[0.6666666666666666,\"#ed7953\"],[0.7777777777777778,\"#fb9f3a\"],[0.8888888888888888,\"#fdca26\"],[1.0,\"#f0f921\"]]}],\"heatmapgl\":[{\"type\":\"heatmapgl\",\"colorbar\":{\"outlinewidth\":0,\"ticks\":\"\"},\"colorscale\":[[0.0,\"#0d0887\"],[0.1111111111111111,\"#46039f\"],[0.2222222222222222,\"#7201a8\"],[0.3333333333333333,\"#9c179e\"],[0.4444444444444444,\"#bd3786\"],[0.5555555555555556,\"#d8576b\"],[0.6666666666666666,\"#ed7953\"],[0.7777777777777778,\"#fb9f3a\"],[0.8888888888888888,\"#fdca26\"],[1.0,\"#f0f921\"]]}],\"contourcarpet\":[{\"type\":\"contourcarpet\",\"colorbar\":{\"outlinewidth\":0,\"ticks\":\"\"}}],\"contour\":[{\"type\":\"contour\",\"colorbar\":{\"outlinewidth\":0,\"ticks\":\"\"},\"colorscale\":[[0.0,\"#0d0887\"],[0.1111111111111111,\"#46039f\"],[0.2222222222222222,\"#7201a8\"],[0.3333333333333333,\"#9c179e\"],[0.4444444444444444,\"#bd3786\"],[0.5555555555555556,\"#d8576b\"],[0.6666666666666666,\"#ed7953\"],[0.7777777777777778,\"#fb9f3a\"],[0.8888888888888888,\"#fdca26\"],[1.0,\"#f0f921\"]]}],\"surface\":[{\"type\":\"surface\",\"colorbar\":{\"outlinewidth\":0,\"ticks\":\"\"},\"colorscale\":[[0.0,\"#0d0887\"],[0.1111111111111111,\"#46039f\"],[0.2222222222222222,\"#7201a8\"],[0.3333333333333333,\"#9c179e\"],[0.4444444444444444,\"#bd3786\"],[0.5555555555555556,\"#d8576b\"],[0.6666666666666666,\"#ed7953\"],[0.7777777777777778,\"#fb9f3a\"],[0.8888888888888888,\"#fdca26\"],[1.0,\"#f0f921\"]]}],\"mesh3d\":[{\"type\":\"mesh3d\",\"colorbar\":{\"outlinewidth\":0,\"ticks\":\"\"}}],\"scatter\":[{\"fillpattern\":{\"fillmode\":\"overlay\",\"size\":10,\"solidity\":0.2},\"type\":\"scatter\"}],\"parcoords\":[{\"type\":\"parcoords\",\"line\":{\"colorbar\":{\"outlinewidth\":0,\"ticks\":\"\"}}}],\"scatterpolargl\":[{\"type\":\"scatterpolargl\",\"marker\":{\"colorbar\":{\"outlinewidth\":0,\"ticks\":\"\"}}}],\"bar\":[{\"error_x\":{\"color\":\"#2a3f5f\"},\"error_y\":{\"color\":\"#2a3f5f\"},\"marker\":{\"line\":{\"color\":\"#E5ECF6\",\"width\":0.5},\"pattern\":{\"fillmode\":\"overlay\",\"size\":10,\"solidity\":0.2}},\"type\":\"bar\"}],\"scattergeo\":[{\"type\":\"scattergeo\",\"marker\":{\"colorbar\":{\"outlinewidth\":0,\"ticks\":\"\"}}}],\"scatterpolar\":[{\"type\":\"scatterpolar\",\"marker\":{\"colorbar\":{\"outlinewidth\":0,\"ticks\":\"\"}}}],\"histogram\":[{\"marker\":{\"pattern\":{\"fillmode\":\"overlay\",\"size\":10,\"solidity\":0.2}},\"type\":\"histogram\"}],\"scattergl\":[{\"type\":\"scattergl\",\"marker\":{\"colorbar\":{\"outlinewidth\":0,\"ticks\":\"\"}}}],\"scatter3d\":[{\"type\":\"scatter3d\",\"line\":{\"colorbar\":{\"outlinewidth\":0,\"ticks\":\"\"}},\"marker\":{\"colorbar\":{\"outlinewidth\":0,\"ticks\":\"\"}}}],\"scattermapbox\":[{\"type\":\"scattermapbox\",\"marker\":{\"colorbar\":{\"outlinewidth\":0,\"ticks\":\"\"}}}],\"scatterternary\":[{\"type\":\"scatterternary\",\"marker\":{\"colorbar\":{\"outlinewidth\":0,\"ticks\":\"\"}}}],\"scattercarpet\":[{\"type\":\"scattercarpet\",\"marker\":{\"colorbar\":{\"outlinewidth\":0,\"ticks\":\"\"}}}],\"carpet\":[{\"aaxis\":{\"endlinecolor\":\"#2a3f5f\",\"gridcolor\":\"white\",\"linecolor\":\"white\",\"minorgridcolor\":\"white\",\"startlinecolor\":\"#2a3f5f\"},\"baxis\":{\"endlinecolor\":\"#2a3f5f\",\"gridcolor\":\"white\",\"linecolor\":\"white\",\"minorgridcolor\":\"white\",\"startlinecolor\":\"#2a3f5f\"},\"type\":\"carpet\"}],\"table\":[{\"cells\":{\"fill\":{\"color\":\"#EBF0F8\"},\"line\":{\"color\":\"white\"}},\"header\":{\"fill\":{\"color\":\"#C8D4E3\"},\"line\":{\"color\":\"white\"}},\"type\":\"table\"}],\"barpolar\":[{\"marker\":{\"line\":{\"color\":\"#E5ECF6\",\"width\":0.5},\"pattern\":{\"fillmode\":\"overlay\",\"size\":10,\"solidity\":0.2}},\"type\":\"barpolar\"}],\"pie\":[{\"automargin\":true,\"type\":\"pie\"}]},\"layout\":{\"autotypenumbers\":\"strict\",\"colorway\":[\"#636efa\",\"#EF553B\",\"#00cc96\",\"#ab63fa\",\"#FFA15A\",\"#19d3f3\",\"#FF6692\",\"#B6E880\",\"#FF97FF\",\"#FECB52\"],\"font\":{\"color\":\"#2a3f5f\"},\"hovermode\":\"closest\",\"hoverlabel\":{\"align\":\"left\"},\"paper_bgcolor\":\"white\",\"plot_bgcolor\":\"#E5ECF6\",\"polar\":{\"bgcolor\":\"#E5ECF6\",\"angularaxis\":{\"gridcolor\":\"white\",\"linecolor\":\"white\",\"ticks\":\"\"},\"radialaxis\":{\"gridcolor\":\"white\",\"linecolor\":\"white\",\"ticks\":\"\"}},\"ternary\":{\"bgcolor\":\"#E5ECF6\",\"aaxis\":{\"gridcolor\":\"white\",\"linecolor\":\"white\",\"ticks\":\"\"},\"baxis\":{\"gridcolor\":\"white\",\"linecolor\":\"white\",\"ticks\":\"\"},\"caxis\":{\"gridcolor\":\"white\",\"linecolor\":\"white\",\"ticks\":\"\"}},\"coloraxis\":{\"colorbar\":{\"outlinewidth\":0,\"ticks\":\"\"}},\"colorscale\":{\"sequential\":[[0.0,\"#0d0887\"],[0.1111111111111111,\"#46039f\"],[0.2222222222222222,\"#7201a8\"],[0.3333333333333333,\"#9c179e\"],[0.4444444444444444,\"#bd3786\"],[0.5555555555555556,\"#d8576b\"],[0.6666666666666666,\"#ed7953\"],[0.7777777777777778,\"#fb9f3a\"],[0.8888888888888888,\"#fdca26\"],[1.0,\"#f0f921\"]],\"sequentialminus\":[[0.0,\"#0d0887\"],[0.1111111111111111,\"#46039f\"],[0.2222222222222222,\"#7201a8\"],[0.3333333333333333,\"#9c179e\"],[0.4444444444444444,\"#bd3786\"],[0.5555555555555556,\"#d8576b\"],[0.6666666666666666,\"#ed7953\"],[0.7777777777777778,\"#fb9f3a\"],[0.8888888888888888,\"#fdca26\"],[1.0,\"#f0f921\"]],\"diverging\":[[0,\"#8e0152\"],[0.1,\"#c51b7d\"],[0.2,\"#de77ae\"],[0.3,\"#f1b6da\"],[0.4,\"#fde0ef\"],[0.5,\"#f7f7f7\"],[0.6,\"#e6f5d0\"],[0.7,\"#b8e186\"],[0.8,\"#7fbc41\"],[0.9,\"#4d9221\"],[1,\"#276419\"]]},\"xaxis\":{\"gridcolor\":\"white\",\"linecolor\":\"white\",\"ticks\":\"\",\"title\":{\"standoff\":15},\"zerolinecolor\":\"white\",\"automargin\":true,\"zerolinewidth\":2},\"yaxis\":{\"gridcolor\":\"white\",\"linecolor\":\"white\",\"ticks\":\"\",\"title\":{\"standoff\":15},\"zerolinecolor\":\"white\",\"automargin\":true,\"zerolinewidth\":2},\"scene\":{\"xaxis\":{\"backgroundcolor\":\"#E5ECF6\",\"gridcolor\":\"white\",\"linecolor\":\"white\",\"showbackground\":true,\"ticks\":\"\",\"zerolinecolor\":\"white\",\"gridwidth\":2},\"yaxis\":{\"backgroundcolor\":\"#E5ECF6\",\"gridcolor\":\"white\",\"linecolor\":\"white\",\"showbackground\":true,\"ticks\":\"\",\"zerolinecolor\":\"white\",\"gridwidth\":2},\"zaxis\":{\"backgroundcolor\":\"#E5ECF6\",\"gridcolor\":\"white\",\"linecolor\":\"white\",\"showbackground\":true,\"ticks\":\"\",\"zerolinecolor\":\"white\",\"gridwidth\":2}},\"shapedefaults\":{\"line\":{\"color\":\"#2a3f5f\"}},\"annotationdefaults\":{\"arrowcolor\":\"#2a3f5f\",\"arrowhead\":0,\"arrowwidth\":1},\"geo\":{\"bgcolor\":\"white\",\"landcolor\":\"#E5ECF6\",\"subunitcolor\":\"white\",\"showland\":true,\"showlakes\":true,\"lakecolor\":\"white\"},\"title\":{\"x\":0.05},\"mapbox\":{\"style\":\"light\"}}},\"geo\":{\"domain\":{\"x\":[0.0,1.0],\"y\":[0.0,1.0]},\"center\":{},\"fitbounds\":\"locations\",\"visible\":false},\"coloraxis\":{\"colorbar\":{\"title\":{\"text\":\"bill\"}},\"colorscale\":[[0.0,\"rgb(255,245,240)\"],[0.125,\"rgb(254,224,210)\"],[0.25,\"rgb(252,187,161)\"],[0.375,\"rgb(252,146,114)\"],[0.5,\"rgb(251,106,74)\"],[0.625,\"rgb(239,59,44)\"],[0.75,\"rgb(203,24,29)\"],[0.875,\"rgb(165,15,21)\"],[1.0,\"rgb(103,0,13)\"]]},\"legend\":{\"tracegroupgap\":0},\"margin\":{\"t\":60}},                        {\"responsive\": true}                    ).then(function(){\n",
       "                            \n",
       "var gd = document.getElementById('b9f1e57a-978b-47ea-8671-8d0b94b26872');\n",
       "var x = new MutationObserver(function (mutations, observer) {{\n",
       "        var display = window.getComputedStyle(gd).display;\n",
       "        if (!display || display === 'none') {{\n",
       "            console.log([gd, 'removed!']);\n",
       "            Plotly.purge(gd);\n",
       "            observer.disconnect();\n",
       "        }}\n",
       "}});\n",
       "\n",
       "// Listen for the removal of the full notebook cells\n",
       "var notebookContainer = gd.closest('#notebook-container');\n",
       "if (notebookContainer) {{\n",
       "    x.observe(notebookContainer, {childList: true});\n",
       "}}\n",
       "\n",
       "// Listen for the clearing of the current output cell\n",
       "var outputEl = gd.closest('.output');\n",
       "if (outputEl) {{\n",
       "    x.observe(outputEl, {childList: true});\n",
       "}}\n",
       "\n",
       "                        })                };                });            </script>        </div>"
      ]
     },
     "metadata": {},
     "output_type": "display_data"
    }
   ],
   "source": [
    "import pandas as pd\n",
    "import plotly.express as px\n",
    "\n",
    "#df = pd.read_csv(\"https://gist.githubusercontent.com/jbrobst/56c13bbbf9d97d187fea01ca62ea5112/raw/e388c4cae20aa53cb5090210a42ebb9b765c0a36/active_cases_2020-07-17_0800.csv\")\n",
    "\n",
    "fig = px.choropleth(\n",
    "    dff,\n",
    "    geojson=\"https://gist.githubusercontent.com/jbrobst/56c13bbbf9d97d187fea01ca62ea5112/raw/e388c4cae20aa53cb5090210a42ebb9b765c0a36/india_states.geojson\",\n",
    "    featureidkey='properties.ST_NM',\n",
    "    locations='states',\n",
    "    color='bill',\n",
    "    color_continuous_scale='Reds'\n",
    ")\n",
    "\n",
    "fig.update_geos(fitbounds=\"locations\", visible=False)\n",
    "fig.show()"
   ]
  },
  {
   "cell_type": "code",
   "execution_count": null,
   "id": "9d631afd",
   "metadata": {},
   "outputs": [],
   "source": []
  }
 ],
 "metadata": {
  "kernelspec": {
   "display_name": "myenv",
   "language": "python",
   "name": "myenv"
  },
  "language_info": {
   "codemirror_mode": {
    "name": "ipython",
    "version": 3
   },
   "file_extension": ".py",
   "mimetype": "text/x-python",
   "name": "python",
   "nbconvert_exporter": "python",
   "pygments_lexer": "ipython3",
   "version": "3.8.2"
  }
 },
 "nbformat": 4,
 "nbformat_minor": 5
}
